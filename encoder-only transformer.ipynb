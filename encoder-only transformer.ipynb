{
 "cells": [
  {
   "cell_type": "markdown",
   "metadata": {},
   "source": []
  },
  {
   "cell_type": "code",
   "execution_count": 56,
   "metadata": {},
   "outputs": [],
   "source": [
    "import torch\n",
    "import torch.nn as nn\n",
    "import math\n",
    "import copy"
   ]
  },
  {
   "cell_type": "code",
   "execution_count": 78,
   "metadata": {},
   "outputs": [],
   "source": [
    "class PositionalEncoding(nn.Module):\n",
    "    def __init__ (self, d_model, dropout = 0.1, max_len = 5000):\n",
    "        super(PositionalEncoding, self).__init__()\n",
    "        self.encoding =torch.zeros(max_len, d_model)\n",
    "        position = torch.arange(0, max_len).unsqueeze(1).float()\n",
    "        div_term = torch.exp(torch.arange(0, d_model,2).float() * -(math.log(10000.0)/d_model))\n",
    "        self.encoding[:,0::2] = torch.sin(position * div_term)\n",
    "        self.encoding[:,1::2] = torch.cos(position * div_term)\n",
    "        self.encoding = self.encoding.unsqueeze(0)\n",
    "\n",
    "    def forward(self, x):\n",
    "        return x + self.encoding[:, :x.size(1)].detach()\n",
    "\n",
    "class TransformerEncoderLayer(nn.Module):\n",
    "    def __init__(self, d_model, nhead, dim_feedforward=2048, dropout=0.1):\n",
    "        super(TransformerEncoderLayer, self).__init__()\n",
    "        self.self_attn = nn.MultiheadAttention(d_model, nhead, dropout=dropout)\n",
    "        self.linear1 = nn.Linear(d_model, dim_feedforward)\n",
    "        self.dropout = nn.Dropout(dropout)\n",
    "        self.linear2 = nn.Linear(dim_feedforward, d_model)\n",
    "        self.norm1 = nn.LayerNorm(d_model)\n",
    "        self.norm2 = nn.LayerNorm(d_model)\n",
    "        self.dropout1 = nn.Dropout(dropout)\n",
    "        self.dropout2 = nn.Dropout(dropout)\n",
    "        self.activation = nn.ReLU()\n",
    "\n",
    "    def forward(self, src, src_mask=None, src_key_padding_mask=None):\n",
    "        src2 = self.norm1(src)\n",
    "        src2 = self.self_attn(src, src, src, attn_mask=src_mask, key_padding_mask=src_key_padding_mask)[0]\n",
    "        src = src + self.dropout1(src2)\n",
    "        src2 = self.norm2(src)\n",
    "        src2 = self.linear1(src2)\n",
    "        src2 = self.activation(src2)\n",
    "        src2 = self.dropout(src2)\n",
    "        src2 = self.linear2(src2)\n",
    "        src = src + self.dropout2(src2)\n",
    "        return src\n",
    "\n",
    "\n",
    "    \n",
    "class TransformerEncoder(nn.Module):\n",
    "    def __init__(self, encoder_layer, num_layers):\n",
    "        super(TransformerEncoder, self).__init__()\n",
    "        self.layers = nn.ModuleList([copy.deepcopy(encoder_layer) for _ in range(num_layers)])\n",
    "        self.norm = nn.LayerNorm(encoder_layer.self_attn.embed_dim)\n",
    "\n",
    "    def forward(self, src, mask = None, src_key_padding_mask = None):\n",
    "        output = src\n",
    "        for layer in self.layers:\n",
    "            output = layer(output, src_mask = mask, src_key_padding_mask = src_key_padding_mask)\n",
    "        output = self.norm(output)\n",
    "        return output\n",
    "\n",
    "class TransformerForClassification(nn.Module):\n",
    "    def __init__(self, input_dim, d_model, nhead, num_encoder_layers, dim_feedforward, num_classes):\n",
    "        super(TransformerForClassification, self).__init__()\n",
    "        self.encoder_layer = TransformerEncoderLayer(d_model, nhead, dim_feedforward)\n",
    "        self.transformer_encoder = TransformerEncoder(self.encoder_layer, num_encoder_layers)\n",
    "        self.pos_encoder = PositionalEncoding(d_model)\n",
    "        self.input_embedding = nn.Linear(input_dim, d_model)\n",
    "        self.output_layer = nn.Linear(d_model, num_classes)\n",
    "\n",
    "    def forward(self, src, src_mask=None, src_key_padding_mask=None):\n",
    "        src = self.input_embedding(src)  \n",
    "        src = self.pos_encoder(src)\n",
    "        src = self.transformer_encoder(src, mask=src_mask, src_key_padding_mask=src_key_padding_mask)\n",
    "        output = self.output_layer(src[:,0,:])\n"
   ]
  },
  {
   "cell_type": "code",
   "execution_count": 58,
   "metadata": {},
   "outputs": [
    {
     "name": "stderr",
     "output_type": "stream",
     "text": [
      "[nltk_data] Downloading package punkt to\n",
      "[nltk_data]     C:\\Users\\rishe\\AppData\\Roaming\\nltk_data...\n",
      "[nltk_data]   Package punkt is already up-to-date!\n"
     ]
    },
    {
     "data": {
      "text/plain": [
       "True"
      ]
     },
     "execution_count": 58,
     "metadata": {},
     "output_type": "execute_result"
    }
   ],
   "source": [
    "import json\n",
    "import pandas as pd\n",
    "from sklearn.model_selection import train_test_split\n",
    "from gensim.models.doc2vec import Doc2Vec, TaggedDocument\n",
    "import nltk\n",
    "from nltk.tokenize import word_tokenize\n",
    "import re\n",
    "import torch.optim as optim\n",
    "import numpy as np\n",
    "nltk.download('punkt')"
   ]
  },
  {
   "cell_type": "code",
   "execution_count": 59,
   "metadata": {},
   "outputs": [],
   "source": [
    "with open('data/train-claims.json', 'r') as file:\n",
    "    data = json.load(file)\n",
    "with open('data/evidence.json', 'r') as file:\n",
    "    evidence_data = json.load(file)"
   ]
  },
  {
   "cell_type": "code",
   "execution_count": 60,
   "metadata": {},
   "outputs": [],
   "source": [
    "output_data = []\n",
    "for claim_id, claim_info in data.items():\n",
    "    claim_text = claim_info['claim_text']\n",
    "    claim_label = claim_info['claim_label']\n",
    "    if claim_label == \"DISPUTED\":\n",
    "        continue  # 忽略 disputed 的声明\n",
    "    label_mapping = {\n",
    "        \"SUPPORTS\": \"support\",\n",
    "        \"REFUTES\": \"refute\",\n",
    "        \"NOT_ENOUGH_INFO\": \"irrelevant\"\n",
    "    }\n",
    "    if claim_label in label_mapping:\n",
    "        for evidence_id in claim_info['evidences']:\n",
    "            output_data.append({\n",
    "                \"claim_id\": claim_id,\n",
    "                \"claim_text\": claim_text,\n",
    "                \"evidence_id\": evidence_id,\n",
    "                \"label\": label_mapping[claim_label],\n",
    "                \"evidence_text\": evidence_data.get(evidence_id, \"\")\n",
    "            })"
   ]
  },
  {
   "cell_type": "code",
   "execution_count": 61,
   "metadata": {},
   "outputs": [],
   "source": [
    "df_output = pd.DataFrame(output_data)\n",
    "train_df, valid_df = train_test_split(df_output, test_size=0.2, random_state=42)\n",
    "\n",
    "# 函数来预处理和向量化文本\n",
    "def preprocess_text(text):\n",
    "    pattern = re.compile(r'\\b[a-zA-Z0-9]+\\b')\n",
    "    tokens = word_tokenize(text.lower())\n",
    "    filtered_tokens = [token for token in tokens if pattern.match(token)]\n",
    "    return filtered_tokens\n",
    "\n",
    "# 准备文档\n",
    "train_documents = [TaggedDocument(words=preprocess_text(row['claim_text']) + preprocess_text(row['evidence_text']), tags=[str(i)]) for i, row in train_df.iterrows()]\n",
    "valid_documents = [TaggedDocument(words=preprocess_text(row['claim_text']) + preprocess_text(row['evidence_text']), tags=[str(i)]) for i, row in valid_df.iterrows()]"
   ]
  },
  {
   "cell_type": "code",
   "execution_count": 62,
   "metadata": {},
   "outputs": [],
   "source": [
    "model_d2v = Doc2Vec(vector_size=128, window=5, min_count=1, workers=4, epochs=50)\n",
    "\n",
    "# 构建词汇表并训练模型\n",
    "model_d2v.build_vocab(train_documents)\n",
    "model_d2v.train(train_documents, total_examples=model_d2v.corpus_count, epochs=model_d2v.epochs)"
   ]
  },
  {
   "cell_type": "code",
   "execution_count": 63,
   "metadata": {},
   "outputs": [],
   "source": [
    "device = torch.device('cuda' if torch.cuda.is_available() else 'cpu')\n",
    "\n",
    "def get_vectors(documents):\n",
    "    vectors = np.array([model_d2v.infer_vector(doc.words) for doc in documents])\n",
    "    return torch.tensor(vectors, dtype=torch.float).view(vectors.shape[0], 1, -1).to(device)"
   ]
  },
  {
   "cell_type": "code",
   "execution_count": 64,
   "metadata": {},
   "outputs": [],
   "source": [
    "train_vectors = get_vectors(train_documents)\n",
    "valid_vectors = get_vectors(valid_documents)\n",
    "\n",
    "# 获取标签并转换为 tensor\n",
    "train_labels = torch.tensor(train_df['label'].astype('category').cat.codes.to_numpy(), dtype=torch.long).to(device)\n",
    "valid_labels = torch.tensor(valid_df['label'].astype('category').cat.codes.to_numpy(), dtype=torch.long).to(device)"
   ]
  },
  {
   "cell_type": "code",
   "execution_count": 86,
   "metadata": {},
   "outputs": [],
   "source": [
    "model = TransformerForClassification(input_dim = 128, d_model = 2984, nhead = 8, num_encoder_layers = 6, dim_feedforward = 2048, num_classes = 10).to(device)"
   ]
  },
  {
   "cell_type": "code",
   "execution_count": 87,
   "metadata": {},
   "outputs": [],
   "source": [
    "optimizer = optim.Adam(model.parameters(), lr = 0.001)\n",
    "criterion = nn.CrossEntropyLoss()"
   ]
  },
  {
   "cell_type": "code",
   "execution_count": 88,
   "metadata": {},
   "outputs": [],
   "source": [
    "def train(model, train_vectors, train_labels, optimizer, criterion, n_epochs):\n",
    "    model.train()\n",
    "    batch_size = 32\n",
    "    for epoch in range(n_epochs):\n",
    "        optimizer.zero_grad()\n",
    "        output = model(train_vectors)\n",
    "        loss = criterion(output, train_labels[0:train_vectors.size(0)])\n",
    "        loss.backward()\n",
    "        optimizer.step()\n",
    "        if epoch % 10 == 0:  # 每10个epoch输出一次信息\n",
    "            print(f'Epoch {epoch + 1}, Loss: {loss.item()}')\n",
    "    \n",
    "def evaluate(model, valid_vectors, valid_labels):\n",
    "    model.eval()\n",
    "    with torch.no_grad():\n",
    "        outputs = model(valid_vectors)\n",
    "        _, predicted = torch.max(outputs, 1)\n",
    "        correct = (predicted == valid_labels).sum().item()\n",
    "        accuracy = correct / valid_labels.size(0)\n",
    "    return accuracy"
   ]
  },
  {
   "cell_type": "code",
   "execution_count": 89,
   "metadata": {},
   "outputs": [
    {
     "name": "stdout",
     "output_type": "stream",
     "text": [
      "Epoch 1, Loss: 2.523219585418701\n"
     ]
    }
   ],
   "source": [
    "n_epochs = 500\n",
    "train_losses = []\n",
    "valid_losses = []\n",
    "\n",
    "n_epochs = 500\n",
    "train(model, train_vectors, train_labels, optimizer, criterion, n_epochs=n_epochs)"
   ]
  },
  {
   "cell_type": "code",
   "execution_count": null,
   "metadata": {},
   "outputs": [
    {
     "name": "stdout",
     "output_type": "stream",
     "text": [
      "Validation Accuracy: 0.10\n"
     ]
    }
   ],
   "source": [
    "validation_accuracy = evaluate(model, valid_vectors, valid_labels)\n",
    "print(f'Validation Accuracy: {validation_accuracy:.2f}')"
   ]
  }
 ],
 "metadata": {
  "kernelspec": {
   "display_name": "Python 3",
   "language": "python",
   "name": "python3"
  },
  "language_info": {
   "codemirror_mode": {
    "name": "ipython",
    "version": 3
   },
   "file_extension": ".py",
   "mimetype": "text/x-python",
   "name": "python",
   "nbconvert_exporter": "python",
   "pygments_lexer": "ipython3",
   "version": "3.11.7"
  }
 },
 "nbformat": 4,
 "nbformat_minor": 2
}
