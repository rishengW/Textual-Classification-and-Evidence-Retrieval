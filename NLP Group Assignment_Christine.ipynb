{
 "cells": [
  {
   "cell_type": "code",
   "execution_count": 3,
   "id": "c523e3bf",
   "metadata": {},
   "outputs": [],
   "source": [
    "import json\n",
    "import pandas as pd\n",
    "\n",
    "#from google.colab import drive\n",
    "#drive.mount(\"/content/drive\")\n",
    "\n",
    "def read_json(file_path):\n",
    "    with open(file_path, \"r\", encoding=\"utf-8\") as f:\n",
    "        lines = f.readlines()\n",
    "    data = [json.loads(line) for line in lines]\n",
    "    return pd.DataFrame(data)\n",
    "\n",
    "#upload data to the folder called \"NLP data\"\n",
    "#evidence = read_json(\"/content/drive/My Drive/NLP data/evidence.json\")\n",
    "#dev_claims = read_json(\"/content/drive/My Drive/NLP data/dev-claims.json\")\n",
    "#dev_claims_baseline = read_json(\"/content/drive/My Drive/NLP data/dev-claims-baseline.json\")\n",
    "#test_claims_unlabelled = read_json(\"/content/drive/My Drive/NLP data/test-claims-unlabelled.json\")\n",
    "#train_claims = read_json(\"/content/drive/My Drive/NLP data/train-claims.json\")\n",
    "\n",
    "evidence_df = read_json(\"data/evidence.json\")\n",
    "dev_claims_df = read_json(\"data/dev-claims.json\")\n",
    "dev_claims_baseline_df = read_json(\"data/dev-claims-baseline.json\")\n",
    "test_claims_unlabelled_df = read_json(\"data/test-claims-unlabelled.json\")\n",
    "train_claims_df = read_json(\"data/train-claims.json\")"
   ]
  },
  {
   "cell_type": "code",
   "execution_count": 24,
   "id": "986f5524",
   "metadata": {},
   "outputs": [
    {
     "name": "stdout",
     "output_type": "stream",
     "text": [
      "(1, 1208827)\n",
      "(1, 154)\n",
      "(1, 1228)\n",
      "(1, 153)\n"
     ]
    }
   ],
   "source": [
    "print(evidence_df.shape)\n",
    "print(dev_claims_df.shape)\n",
    "print(train_claims_df.shape)\n",
    "print(test_claims_unlabelled_df.shape)"
   ]
  },
  {
   "cell_type": "code",
   "execution_count": null,
   "id": "d8a95a8d",
   "metadata": {},
   "outputs": [],
   "source": [
    "print(dev_claims_df['claim-375'][0])\n",
    "print(evidence_df['evidence-996421'][0])\n",
    "print(evidence_df['evidence-1080858'][0])\n",
    "print(evidence_df['evidence-208053'][0])\n",
    "print(evidence_df['evidence-699212'][0])\n",
    "print(evidence_df['evidence-832334'][0])"
   ]
  },
  {
   "cell_type": "code",
   "execution_count": null,
   "id": "a2b1bc24",
   "metadata": {},
   "outputs": [],
   "source": [
    "dev_claims_base = dev_claims_baseline_df.T\n",
    "\n",
    "dev_claims_base['evidence_count'] = dev_claims_base[0].apply(lambda x: len(x.get('evidences', [])))\n",
    "\n",
    "max_evidence_count = dev_claims_base['evidence_count'].max()\n",
    "min_evidence_count = dev_claims_base['evidence_count'].min()\n",
    "\n",
    "print(dev_claims_base, max_evidence_count, min_evidence_count)"
   ]
  },
  {
   "cell_type": "code",
   "execution_count": null,
   "id": "a36c6f2d",
   "metadata": {},
   "outputs": [],
   "source": [
    "dev_claims = dev_claims_df.T\n",
    "\n",
    "dev_claims['evidence_count'] = dev_claims[0].apply(lambda x: len(x.get('evidences', [])))\n",
    "\n",
    "max_evidence_count = dev_claims['evidence_count'].max()\n",
    "min_evidence_count = dev_claims['evidence_count'].min()\n",
    "\n",
    "print(dev_claims, max_evidence_count, min_evidence_count)\n",
    "\n",
    "evidence_count_distribution = dev_claims['evidence_count'].value_counts()\n",
    "evidence_count_distribution_sorted = evidence_count_distribution.sort_index()\n",
    "print(evidence_count_distribution_sorted)"
   ]
  },
  {
   "cell_type": "code",
   "execution_count": null,
   "id": "7964efc5",
   "metadata": {},
   "outputs": [],
   "source": [
    "train_claims = train_claims_df.T\n",
    "\n",
    "train_claims['evidence_count'] = train_claims[0].apply(lambda x: len(x.get('evidences', [])))\n",
    "\n",
    "max_evidence_count = train_claims['evidence_count'].max()\n",
    "min_evidence_count = train_claims['evidence_count'].min()\n",
    "\n",
    "print(train_claims, max_evidence_count, min_evidence_count)"
   ]
  },
  {
   "cell_type": "markdown",
   "id": "5a5cf9e1",
   "metadata": {},
   "source": [
    "### Data Structure Preprocessing (1-1)"
   ]
  },
  {
   "cell_type": "code",
   "execution_count": 3,
   "id": "ac0e3e12",
   "metadata": {},
   "outputs": [],
   "source": [
    "train_claims_data = []\n",
    "for claim_id, claim_info in train_claims_df.items():\n",
    "    for evidence in claim_info[0]['evidences']:\n",
    "        update_info = {\n",
    "            \"claim_ID\": claim_id,\n",
    "            \"claim_text\": claim_info[0]['claim_text'],\n",
    "            \"claim_label\": claim_info[0]['claim_label'],\n",
    "            \"evidences\": evidence\n",
    "        }\n",
    "        train_claims_data.append(update_info)"
   ]
  },
  {
   "cell_type": "code",
   "execution_count": 4,
   "id": "ad21ffc1",
   "metadata": {},
   "outputs": [],
   "source": [
    "dev_claims_data = []\n",
    "for claim_id, claim_info in dev_claims_df.items():\n",
    "    for evidence in claim_info[0]['evidences']:\n",
    "        update_info = {\n",
    "            \"claim_ID\": claim_id,\n",
    "            \"claim_text\": claim_info[0]['claim_text'],\n",
    "            \"claim_label\": claim_info[0]['claim_label'],\n",
    "            \"evidences\": evidence\n",
    "        }\n",
    "        dev_claims_data.append(update_info)"
   ]
  },
  {
   "cell_type": "code",
   "execution_count": 5,
   "id": "767eac71",
   "metadata": {},
   "outputs": [],
   "source": [
    "evidence_data = []\n",
    "\n",
    "for col in evidence_df.columns:\n",
    "    evidence_text = evidence_df[col][0]\n",
    "    evidence_id = col\n",
    "    evidence_data.append({\n",
    "        \"evidence_ID\": evidence_id,\n",
    "        \"evidence_text\": evidence_text\n",
    "    })"
   ]
  },
  {
   "cell_type": "code",
   "execution_count": null,
   "id": "b9e77123",
   "metadata": {},
   "outputs": [],
   "source": [
    "#print(\"train_claims_data: \\n\",train_claims_data[:3])\n",
    "#print(\"dev_claims_data: \\n\",dev_claims_data[:3])\n",
    "#print(\"evidence_data: \\n\",evidence_data[:3])\n",
    "\n",
    "print(\"train_claims_data: \\n\",pd.DataFrame(train_claims_data).head(3))\n",
    "print(\"dev_claims_data: \\n\",pd.DataFrame(dev_claims_data).head(3))\n",
    "print(\"evidence_data: \\n\",pd.DataFrame(evidence_data).head(3))"
   ]
  },
  {
   "cell_type": "code",
   "execution_count": null,
   "id": "6ea5beb5",
   "metadata": {},
   "outputs": [],
   "source": [
    "baseline_dev_claims_data = []\n",
    "for claim_id, claim_info in dev_claims_baseline_df.items():\n",
    "        update_info = {\n",
    "            \"claim_ID\": claim_id,\n",
    "            \"claim_text\": claim_info[0]['claim_text'],\n",
    "            \"claim_label\": claim_info[0]['claim_label'],\n",
    "            \"evidences\": claim_info[0]['evidences']\n",
    "        }\n",
    "        baseline_dev_claims_data.append(update_info)\n",
    "baseline_dev_label_counts = pd.DataFrame(baseline_dev_claims_data)['claim_label'].value_counts()\n",
    "print(baseline_dev_label_counts)"
   ]
  },
  {
   "cell_type": "code",
   "execution_count": null,
   "id": "3bc862e5",
   "metadata": {},
   "outputs": [],
   "source": [
    "dev_claims_data = []\n",
    "for claim_id, claim_info in dev_claims_df.items():\n",
    "        update_info = {\n",
    "            \"claim_ID\": claim_id,\n",
    "            \"claim_text\": claim_info[0]['claim_text'],\n",
    "            \"claim_label\": claim_info[0]['claim_label'],\n",
    "            \"evidences\": claim_info[0]['evidences']\n",
    "        }\n",
    "        dev_claims_data.append(update_info)\n",
    "dev_label_counts = pd.DataFrame(dev_claims_data)['claim_label'].value_counts()\n",
    "print(dev_label_counts)"
   ]
  },
  {
   "cell_type": "code",
   "execution_count": null,
   "id": "5c2c407c",
   "metadata": {},
   "outputs": [],
   "source": [
    "#label_counts = pd.DataFrame(train_claims_data)['claim_label'].value_counts()\n",
    "dev_label_counts = pd.DataFrame(dev_claims_data)['claim_label'].value_counts()\n",
    "print(dev_label_counts)"
   ]
  },
  {
   "cell_type": "code",
   "execution_count": null,
   "id": "a5d76c37",
   "metadata": {},
   "outputs": [],
   "source": [
    "train_label_counts = pd.DataFrame(train_claims_data)['claim_label'].value_counts()\n",
    "print(train_label_counts)"
   ]
  },
  {
   "cell_type": "markdown",
   "id": "cc858d84",
   "metadata": {},
   "source": [
    "### Data processing"
   ]
  },
  {
   "cell_type": "code",
   "execution_count": null,
   "id": "1c877f5f",
   "metadata": {},
   "outputs": [],
   "source": [
    "'''\n",
    "import numpy as np\n",
    "import tensorflow as tf\n",
    "\n",
    "maxlen = 20\n",
    "\n",
    "tokenizer = tf.keras.preprocessing.text.Tokenizer()\n",
    "\n",
    "train_texts = [item['claim_text'] for item in train_claims_data]\n",
    "tokenizer.fit_on_texts(train_texts)\n",
    "train_claim_sequences = tokenizer.texts_to_sequences(train_texts)\n",
    "#paddle\n",
    "train_claim_data_pad = tf.keras.preprocessing.sequence.pad_sequences(train_claim_sequences, maxlen=maxlen)\n",
    "train_claim_masks = np.where(train_claim_data != 0, 1, 0)\n",
    "'''"
   ]
  },
  {
   "cell_type": "code",
   "execution_count": null,
   "id": "1194218e",
   "metadata": {},
   "outputs": [],
   "source": [
    "'''\n",
    "evidence_texts = [item['evidence_text'] for item in evidence_data]\n",
    "tokenizer.fit_on_texts(evidence_texts)\n",
    "evidence_sequences = tokenizer.texts_to_sequences(evidence_texts)\n",
    "#paddle\n",
    "evidence_data_pad = tf.keras.preprocessing.sequence.pad_sequences(evidence_sequences, maxlen=maxlen)\n",
    "#evidence_masks = np.where(evidence_data != 0, 1, 0)\n",
    "'''"
   ]
  },
  {
   "cell_type": "code",
   "execution_count": null,
   "id": "ee14990d",
   "metadata": {},
   "outputs": [],
   "source": [
    "#print(evidence_texts_pad[:5])\n",
    "#print(evidence_data_pad[:5])"
   ]
  },
  {
   "cell_type": "markdown",
   "id": "2cbb14dd",
   "metadata": {},
   "source": [
    "### TF-IDF & Cosine similarity"
   ]
  },
  {
   "cell_type": "code",
   "execution_count": 6,
   "id": "fd71dc30",
   "metadata": {},
   "outputs": [
    {
     "name": "stderr",
     "output_type": "stream",
     "text": [
      "[nltk_data] Downloading package punkt to\n",
      "[nltk_data]     C:\\Users\\yusi2\\AppData\\Roaming\\nltk_data...\n",
      "[nltk_data]   Package punkt is already up-to-date!\n",
      "[nltk_data] Downloading package stopwords to\n",
      "[nltk_data]     C:\\Users\\yusi2\\AppData\\Roaming\\nltk_data...\n",
      "[nltk_data]   Package stopwords is already up-to-date!\n",
      "[nltk_data] Downloading package wordnet to\n",
      "[nltk_data]     C:\\Users\\yusi2\\AppData\\Roaming\\nltk_data...\n",
      "[nltk_data]   Package wordnet is already up-to-date!\n"
     ]
    }
   ],
   "source": [
    "import re\n",
    "import nltk\n",
    "from nltk.corpus import stopwords\n",
    "from nltk.stem import WordNetLemmatizer\n",
    "from nltk.tokenize import word_tokenize\n",
    "\n",
    "nltk.download('punkt')\n",
    "nltk.download('stopwords')\n",
    "nltk.download('wordnet')\n",
    "\n",
    "stop_words = set(stopwords.words('english'))\n",
    "lemmatizer = WordNetLemmatizer()\n",
    "\n",
    "def preprocess_text(text):\n",
    "    text = text.lower()\n",
    "    text = re.sub(r'[^a-z\\s]', '', text) \n",
    "    words = word_tokenize(text)\n",
    "    filtered_words = [lemmatizer.lemmatize(word) for word in words if word not in stop_words]\n",
    "    return ' '.join(filtered_words)"
   ]
  },
  {
   "cell_type": "code",
   "execution_count": 8,
   "id": "101fc04d",
   "metadata": {},
   "outputs": [],
   "source": [
    "#tfidf vectorize_without ngram\n",
    "import pandas as pd\n",
    "from sklearn.feature_extraction.text import TfidfVectorizer\n",
    "\n",
    "claims_texts = [preprocess_text(claim['claim_text']) for claim in train_claims_data]\n",
    "evidence_texts = [preprocess_text(evidence['evidence_text']) for evidence in evidence_data]\n",
    "all_texts = claims_texts + evidence_texts\n",
    "\n",
    "vectorizer = TfidfVectorizer()\n",
    "tfidf_matrix = vectorizer.fit_transform(all_texts)"
   ]
  },
  {
   "cell_type": "code",
   "execution_count": null,
   "id": "909072e8",
   "metadata": {},
   "outputs": [],
   "source": [
    "#tfidf vectorize\n",
    "import pandas as pd\n",
    "from sklearn.feature_extraction.text import TfidfVectorizer\n",
    "\n",
    "claims_texts = [preprocess_text(claim['claim_text']) for claim in train_claims_data]\n",
    "evidence_texts = [preprocess_text(evidence['evidence_text']) for evidence in evidence_data]\n",
    "all_texts = claims_texts + evidence_texts\n",
    "\n",
    "vectorizer_ngram = TfidfVectorizer(ngram_range=(1,2))\n",
    "tfidf_matrix_ngram = vectorizer_ngram.fit_transform(all_texts)"
   ]
  },
  {
   "cell_type": "code",
   "execution_count": null,
   "id": "971317a2",
   "metadata": {},
   "outputs": [],
   "source": [
    "import pickle\n",
    "\n",
    "# 儲存單詞向量和矩陣\n",
    "with open('vectorizer.pkl', 'wb') as f:\n",
    "    pickle.dump(vectorizer, f)\n",
    "with open('tfidf_matrix.pkl', 'wb') as f:\n",
    "    pickle.dump(tfidf_matrix, f)\n",
    "\n",
    "# 儲存帶n-gram範圍的向量器和矩陣\n",
    "with open('vectorizer_ngram.pkl', 'wb') as f:\n",
    "    pickle.dump(vectorizer_ngram, f)\n",
    "with open('tfidf_matrix_ngram.pkl', 'wb') as f:\n",
    "    pickle.dump(tfidf_matrix_ngram, f)"
   ]
  },
  {
   "cell_type": "code",
   "execution_count": null,
   "id": "b2e2890e",
   "metadata": {},
   "outputs": [],
   "source": [
    "# 加載向量器和矩陣\n",
    "with open('vectorizer.pkl', 'rb') as f:\n",
    "    loaded_vectorizer = pickle.load(f)\n",
    "with open('tfidf_matrix.pkl', 'rb') as f:\n",
    "    loaded_tfidf_matrix = pickle.load(f)\n",
    "\n",
    "# 加載帶n-gram範圍的向量器和矩陣\n",
    "with open('vectorizer_ngram.pkl', 'rb') as f:\n",
    "    loaded_vectorizer_ngram = pickle.load(f)\n",
    "with open('tfidf_matrix_ngram.pkl', 'rb') as f:\n",
    "    loaded_tfidf_matrix_ngram = pickle.load(f)"
   ]
  },
  {
   "cell_type": "code",
   "execution_count": 10,
   "id": "4927059e",
   "metadata": {},
   "outputs": [],
   "source": [
    "dev_claims_texts = [preprocess_text(claim['claim_text']) for claim in dev_claims_data]\n",
    "dev_claim_tfidf = vectorizer.transform(dev_claims_texts)\n",
    "\n",
    "#dev_claim_tfidf_ngram = vectorizer_ngram.transform(dev_claims_texts)"
   ]
  },
  {
   "cell_type": "code",
   "execution_count": 11,
   "id": "ffeaad19",
   "metadata": {},
   "outputs": [
    {
     "name": "stdout",
     "output_type": "stream",
     "text": [
      "['john bennet lawes english entrepreneur agricultural scientist', 'lindberg began professional career age eventually moving new york city', 'boston lady cambridge vampire weekend', 'gerald francis goyer born october professional ice hockey player played game national hockey league', 'detected abnormality oxytocinergic function schizoaffective mania postpartum psychosis ect modified oxytocin release']\n"
     ]
    }
   ],
   "source": [
    "evidence_texts = [preprocess_text(evidence['evidence_text']) for evidence in evidence_data[:5]]\n",
    "print(evidence_texts)"
   ]
  },
  {
   "cell_type": "code",
   "execution_count": 12,
   "id": "a6983390",
   "metadata": {},
   "outputs": [],
   "source": [
    "evidence_texts = [preprocess_text(evidence['evidence_text']) for evidence in evidence_data]\n",
    "evidence_tfidf = vectorizer.transform(evidence_texts)\n",
    "\n",
    "#evidence_tfidf_ngram = vectorizer_ngram.transform(evidence_texts)"
   ]
  },
  {
   "cell_type": "code",
   "execution_count": null,
   "id": "51efacd6",
   "metadata": {},
   "outputs": [],
   "source": [
    "n = int(1208827)\n",
    "divisors = [i for i in range(1, n+1) if n % i == 0]\n",
    "print(\"整除數：\", divisors)"
   ]
  },
  {
   "cell_type": "code",
   "execution_count": 13,
   "id": "9b2ab29c",
   "metadata": {},
   "outputs": [],
   "source": [
    "from sklearn.metrics.pairwise import cosine_similarity\n",
    "import numpy as np\n",
    "\n",
    "dev_batch_size = 77 #154/2\n",
    "evidence_batch_size = 1208827 #1208827/37=32671\n",
    "num_dev_batches = int(np.ceil(len(dev_claims_data) / dev_batch_size))\n",
    "num_evidence_batches = int(np.ceil(evidence_tfidf.shape[0] / evidence_batch_size))\n",
    "\n",
    "dev_evidences_pred_cos = []\n",
    "\n",
    "for i in range(num_dev_batches):\n",
    "    start_dev_idx = i * dev_batch_size\n",
    "    end_dev_idx = min((i + 1) * dev_batch_size, len(dev_claims_data))\n",
    "    dev_batch = dev_claim_tfidf[start_dev_idx:end_dev_idx]\n",
    "\n",
    "    for j in range(num_evidence_batches):\n",
    "        start_evi_idx = j * evidence_batch_size\n",
    "        end_evi_idx = min((j + 1) * evidence_batch_size, evidence_tfidf.shape[0])\n",
    "        evidence_batch = evidence_tfidf[start_evi_idx:end_evi_idx]\n",
    "        \n",
    "        sim_matrix = cosine_similarity(dev_batch, evidence_batch)\n",
    "\n",
    "        for k in range(sim_matrix.shape[0]):\n",
    "            dev_idx = start_dev_idx + k\n",
    "            top_indices = np.argsort(sim_matrix[k])[-3:][::-1]\n",
    "            top_evidences_ids = [evidence_data[start_evi_idx + idx]['evidence_ID'] for idx in top_indices]\n",
    "            top_similarities = [sim_matrix[k][idx] for idx in top_indices]\n",
    "            dev_evidences_pred_cos.append({\n",
    "                'dev_claim_ID': dev_claims_data[dev_idx]['claim_ID'],\n",
    "                'evidence_IDs': top_evidences_ids,\n",
    "                'evidence_sims': top_similarities\n",
    "            })"
   ]
  },
  {
   "cell_type": "code",
   "execution_count": null,
   "id": "9c19ed03",
   "metadata": {},
   "outputs": [],
   "source": [
    "output = pd.DataFrame(dev_evidences_pred_cos)\n",
    "output = output.drop_duplicates(subset=['dev_claim_ID'])\n",
    "output.to_csv('dev_evidences_pred_cos.csv', index=False)"
   ]
  },
  {
   "cell_type": "code",
   "execution_count": null,
   "id": "22afedba",
   "metadata": {},
   "outputs": [],
   "source": [
    "from sklearn.metrics.pairwise import cosine_similarity\n",
    "import numpy as np\n",
    "\n",
    "dev_batch_size = 77 #154/2\n",
    "evidence_batch_size = 1208827 #1208827/37=32671\n",
    "num_dev_batches = int(np.ceil(len(dev_claims_data) / dev_batch_size))\n",
    "num_evidence_batches = int(np.ceil(evidence_tfidf_ngram.shape[0] / evidence_batch_size))\n",
    "\n",
    "dev_evidences_pred_cos_ngram = []\n",
    "\n",
    "for i in range(num_dev_batches):\n",
    "    start_dev_idx = i * dev_batch_size\n",
    "    end_dev_idx = min((i + 1) * dev_batch_size, len(dev_claims_data))\n",
    "    dev_batch = dev_claim_tfidf_ngram[start_dev_idx:end_dev_idx]\n",
    "\n",
    "    for j in range(num_evidence_batches):\n",
    "        start_evi_idx = j * evidence_batch_size\n",
    "        end_evi_idx = min((j + 1) * evidence_batch_size, evidence_tfidf_ngram.shape[0])\n",
    "        evidence_batch = evidence_tfidf_ngram[start_evi_idx:end_evi_idx]\n",
    "        \n",
    "        sim_matrix = cosine_similarity(dev_batch, evidence_batch)\n",
    "\n",
    "        for k in range(sim_matrix.shape[0]):\n",
    "            dev_idx = start_dev_idx + k\n",
    "            top_indices = np.argsort(sim_matrix[k])[-5:][::-1]\n",
    "            top_evidences_ids = [evidence_data[start_evi_idx + idx]['evidence_ID'] for idx in top_indices]\n",
    "            top_similarities = [sim_matrix[k][idx] for idx in top_indices]\n",
    "            dev_evidences_pred_cos_ngram.append({\n",
    "                'dev_claim_ID': dev_claims_data[dev_idx]['claim_ID'],\n",
    "                'evidence_IDs': top_evidences_ids,\n",
    "                'evidence_sims': top_similarities\n",
    "            })"
   ]
  },
  {
   "cell_type": "code",
   "execution_count": null,
   "id": "f2cfd2ab",
   "metadata": {},
   "outputs": [],
   "source": [
    "output = pd.DataFrame(dev_evidences_pred_cos_ngram)\n",
    "output = output.drop_duplicates(subset=['dev_claim_ID'])\n",
    "output.to_csv('dev_evidences_pred_cos_ngram1_2.csv', index=False)"
   ]
  },
  {
   "cell_type": "code",
   "execution_count": null,
   "id": "33816592",
   "metadata": {},
   "outputs": [],
   "source": [
    "print(\"\\nCliam: \")\n",
    "print(dev_claims_df['claim-752'][0]['claim_text'])\n",
    "print(\"\\nReal result: \")\n",
    "print(evidence_df['evidence-67732'][0])\n",
    "print(evidence_df['evidence-572512'][0])\n",
    "print(\"\\nTrain - tfidf + ngram + cosine: \")\n",
    "print(evidence_df['evidence-995049'][0])\n",
    "print(evidence_df['evidence-554677'][0])\n",
    "print(evidence_df['evidence-1140856'][0])\n",
    "print(evidence_df['evidence-511300'][0])\n",
    "print(evidence_df['evidence-252686'][0])\n",
    "\n",
    "print(\"\\nTrain - tfidf + cosine: \")\n",
    "print(evidence_df['evidence-421845'][0])\n",
    "print(evidence_df['evidence-554677'][0])\n",
    "print(evidence_df['evidence-684667'][0])\n",
    "print(evidence_df['evidence-252686'][0])\n",
    "print(evidence_df['evidence-580844'][0])\n",
    "\n",
    "print(\"\\nTrain - jaccob: \")\n",
    "print(evidence_df['evidence-572512'][0])\n",
    "print(evidence_df['evidence-511300'][0])\n",
    "print(evidence_df['evidence-185267'][0])\n",
    "print(evidence_df['evidence-240255'][0])\n",
    "print(evidence_df['evidence-252686'][0])\n"
   ]
  },
  {
   "cell_type": "code",
   "execution_count": null,
   "id": "170b0871",
   "metadata": {},
   "outputs": [],
   "source": [
    "print(evidence_df['evidence-545412'][0])"
   ]
  },
  {
   "cell_type": "code",
   "execution_count": null,
   "id": "b6ecc1c1",
   "metadata": {},
   "outputs": [],
   "source": [
    "print(\"\\nCliam: \")\n",
    "print(dev_claims_df['claim-752'][0]['claim_text'])\n",
    "print(\"\\nReal result: \")\n",
    "print(evidence_df['evidence-67732'][0])\n",
    "print(evidence_df['evidence-572512'][0])\n",
    "print(\"\\nTrain - BM25: \")\n",
    "print(evidence_df['evidence-67732'][0])\n",
    "print(evidence_df['evidence-572512'][0])\n",
    "print(evidence_df['evidence-147175'][0])\n",
    "print(evidence_df['evidence-65625'][0])\n",
    "print(evidence_df['evidence-684667'][0])"
   ]
  },
  {
   "cell_type": "code",
   "execution_count": null,
   "id": "ea0b3003",
   "metadata": {},
   "outputs": [],
   "source": [
    "print(dev_claims_texts[0])\n",
    "print(evidence_texts[67732])\n",
    "print(evidence_tfidf[67732])"
   ]
  },
  {
   "cell_type": "code",
   "execution_count": null,
   "id": "535cd451",
   "metadata": {},
   "outputs": [],
   "source": [
    "test_texts = [dev_claims_texts[0], evidence_texts[572512]]\n",
    "test_tfidf_matrix = vectorizer.transform(test_texts)\n",
    "test_similarity_score = cosine_similarity(test_tfidf_matrix[0:1], test_tfidf_matrix[1:2])\n",
    "print(test_similarity_score)\n",
    "\n",
    "test_texts2 = [dev_claims_texts[0], evidence_texts[995049]]\n",
    "test_tfidf_matrix2 = vectorizer.transform(test_texts2)\n",
    "test_similarity_score2 = cosine_similarity(test_tfidf_matrix2[0:1], test_tfidf_matrix2[1:2])\n",
    "print(test_similarity_score2)"
   ]
  },
  {
   "cell_type": "code",
   "execution_count": 14,
   "id": "f56be09a",
   "metadata": {},
   "outputs": [
    {
     "data": {
      "text/plain": [
       "'\\ntest_jaccard_similarity = jaccard_similarity(set(dev_claims_texts[0].split()), set(evidence_texts[67732].split()))\\nprint(test_jaccard_similarity)\\n\\ntest_jaccard_similarity = jaccard_similarity(set(dev_claims_texts[0].split()), set(evidence_texts[572512].split()))\\nprint(test_jaccard_similarity)\\n\\ntest_jaccard_similarity = jaccard_similarity(set(dev_claims_texts[0].split()), set(evidence_texts[421845].split()))\\nprint(test_jaccard_similarity)\\n\\ntest_jaccard_similarity = jaccard_similarity(set(dev_claims_texts[0].split()), set(evidence_texts[995049].split()))\\nprint(test_jaccard_similarity)\\n'"
      ]
     },
     "execution_count": 14,
     "metadata": {},
     "output_type": "execute_result"
    }
   ],
   "source": [
    "def jaccard_similarity(set1, set2):\n",
    "    intersection = set1.intersection(set2)\n",
    "    union = set1.union(set2)\n",
    "    return len(intersection) / len(union)\n",
    "'''\n",
    "test_jaccard_similarity = jaccard_similarity(set(dev_claims_texts[0].split()), set(evidence_texts[67732].split()))\n",
    "print(test_jaccard_similarity)\n",
    "\n",
    "test_jaccard_similarity = jaccard_similarity(set(dev_claims_texts[0].split()), set(evidence_texts[572512].split()))\n",
    "print(test_jaccard_similarity)\n",
    "\n",
    "test_jaccard_similarity = jaccard_similarity(set(dev_claims_texts[0].split()), set(evidence_texts[421845].split()))\n",
    "print(test_jaccard_similarity)\n",
    "\n",
    "test_jaccard_similarity = jaccard_similarity(set(dev_claims_texts[0].split()), set(evidence_texts[995049].split()))\n",
    "print(test_jaccard_similarity)\n",
    "'''"
   ]
  },
  {
   "cell_type": "code",
   "execution_count": 16,
   "id": "ff274991",
   "metadata": {},
   "outputs": [],
   "source": [
    "def get_word_set_from_tfidf(tfidf_matrix, vectorizer):\n",
    "    feature_names = vectorizer.get_feature_names_out()\n",
    "    word_sets = []\n",
    "    for i in range(tfidf_matrix.shape[0]):\n",
    "        words = [feature_names[j] for j in tfidf_matrix[i].indices]\n",
    "        word_sets.append(set(words))\n",
    "    return word_sets\n",
    "\n",
    "# 轉換 dev_claims 和 evidence_texts 成詞集\n",
    "dev_claim_word_sets = get_word_set_from_tfidf(dev_claim_tfidf, vectorizer)\n",
    "evidence_word_sets = get_word_set_from_tfidf(evidence_tfidf, vectorizer)\n",
    "\n",
    "#dev_claim_word_sets_ngram = get_word_set_from_tfidf(dev_claim_tfidf_ngram, vectorizer_ngram)\n",
    "#evidence_word_sets_ngram = get_word_set_from_tfidf(evidence_tfidf_ngram, vectorizer_ngram)"
   ]
  },
  {
   "cell_type": "code",
   "execution_count": null,
   "id": "811e33cb",
   "metadata": {},
   "outputs": [],
   "source": [
    "with open('dev_claim_word_sets.pkl', 'wb') as f:\n",
    "    pickle.dump(dev_claim_word_sets, f)\n",
    "with open('evidence_word_sets.pkl', 'wb') as f:\n",
    "    pickle.dump(evidence_word_sets, f)\n",
    "with open('dev_claim_word_sets_ngram.pkl', 'wb') as f:\n",
    "    pickle.dump(dev_claim_word_sets_ngram, f)\n",
    "with open('evidence_word_sets_ngram.pkl', 'wb') as f:\n",
    "    pickle.dump(evidence_word_sets_ngram, f)"
   ]
  },
  {
   "cell_type": "code",
   "execution_count": null,
   "id": "97e6c302",
   "metadata": {},
   "outputs": [],
   "source": [
    "with open('dev_claim_word_sets.pkl', 'rb') as f:\n",
    "    loaded_dev_claim_word_sets = pickle.load(f)\n",
    "with open('evidence_word_sets.pkl', 'rb') as f:\n",
    "    loaded_evidence_word_sets = pickle.load(f)\n",
    "with open('dev_claim_word_sets_ngram.pkl', 'rb') as f:\n",
    "    loaded_dev_claim_word_sets_ngram = pickle.load(f)\n",
    "with open('evidence_word_sets_ngram.pkl', 'rb') as f:\n",
    "    loaded_evidence_word_sets_ngram = pickle.load(f)"
   ]
  },
  {
   "cell_type": "code",
   "execution_count": 17,
   "id": "a101676f",
   "metadata": {},
   "outputs": [
    {
     "data": {
      "text/plain": [
       "\"\\nfor entry in dev_evidences_jacob_pred:\\n    sorted_indices = np.argsort([-sim for sim in entry['evidence_sims']])\\n    entry['evidence_IDs'] = [entry['evidence_IDs'][idx] for idx in sorted_indices]\\n    entry['evidence_sims'] = [entry['evidence_sims'][idx] for idx in sorted_indices]\\n\""
      ]
     },
     "execution_count": 17,
     "metadata": {},
     "output_type": "execute_result"
    }
   ],
   "source": [
    "import numpy as np\n",
    "\n",
    "# 設定批處理大小\n",
    "evidence_batch_size = 1000  # 根據你的內存設定\n",
    "\n",
    "# 初始化存儲結構\n",
    "dev_evidences_top5 = [[] for _ in range(len(dev_claims_data))]\n",
    "\n",
    "# 分批處理證據集\n",
    "for start_idx in range(0, len(evidence_word_sets), evidence_batch_size):\n",
    "    end_idx = min(start_idx + evidence_batch_size, len(evidence_word_sets))\n",
    "    evidence_batch = evidence_word_sets[start_idx:end_idx]\n",
    "\n",
    "    # 計算每個 dev_claim 與當前批次中的每個 evidence 的相似度\n",
    "    for i, claim_set in enumerate(dev_claim_word_sets):\n",
    "        for j, evidence_set in enumerate(evidence_batch, start=start_idx):\n",
    "            similarity = jaccard_similarity(claim_set, evidence_set)\n",
    "\n",
    "            # 維護一個長度為5的最高相似度列表\n",
    "            if len(dev_evidences_top5[i]) < 3:\n",
    "                dev_evidences_top5[i].append((similarity, evidence_data[j]['evidence_ID']))\n",
    "                dev_evidences_top5[i].sort(reverse=True, key=lambda x: x[0])\n",
    "            else:\n",
    "                if similarity > dev_evidences_top5[i][-1][0]:\n",
    "                    dev_evidences_top5[i][-1] = (similarity, evidence_data[j]['evidence_ID'])\n",
    "                    dev_evidences_top5[i].sort(reverse=True, key=lambda x: x[0])\n",
    "\n",
    "# 格式化最終結果\n",
    "dev_evidences_pred_jacob = [{\n",
    "    'dev_claim_ID': dev_claims_data[i]['claim_ID'],\n",
    "    'evidence_IDs': [e[1] for e in top5],\n",
    "    'evidence_sims': [e[0] for e in top5]\n",
    "} for i, top5 in enumerate(dev_evidences_top5)]\n",
    "\n",
    "# 確保結果按相似度排序\n",
    "'''\n",
    "for entry in dev_evidences_jacob_pred:\n",
    "    sorted_indices = np.argsort([-sim for sim in entry['evidence_sims']])\n",
    "    entry['evidence_IDs'] = [entry['evidence_IDs'][idx] for idx in sorted_indices]\n",
    "    entry['evidence_sims'] = [entry['evidence_sims'][idx] for idx in sorted_indices]\n",
    "'''"
   ]
  },
  {
   "cell_type": "code",
   "execution_count": null,
   "id": "f3fc5bf4",
   "metadata": {},
   "outputs": [],
   "source": [
    "output = pd.DataFrame(dev_evidences_pred_jacob)\n",
    "output = output.drop_duplicates(subset=['dev_claim_ID'])\n",
    "output.to_csv('dev_evidences_pred_jacob_15.csv', index=False)"
   ]
  },
  {
   "cell_type": "code",
   "execution_count": null,
   "id": "9e7aa8e9",
   "metadata": {},
   "outputs": [],
   "source": [
    "import numpy as np\n",
    "\n",
    "# 設定批處理大小\n",
    "evidence_batch_size = 1000  # 根據你的內存設定\n",
    "\n",
    "# 初始化存儲結構\n",
    "dev_evidences_top5 = [[] for _ in range(len(dev_claims_data))]\n",
    "\n",
    "# 分批處理證據集\n",
    "for start_idx in range(0, len(evidence_word_sets_ngram), evidence_batch_size):\n",
    "    end_idx = min(start_idx + evidence_batch_size, len(evidence_word_sets_ngram))\n",
    "    evidence_batch = evidence_word_sets_ngram[start_idx:end_idx]\n",
    "\n",
    "    # 計算每個 dev_claim 與當前批次中的每個 evidence 的相似度\n",
    "    for i, claim_set in enumerate(dev_claim_word_sets_ngram):\n",
    "        for j, evidence_set in enumerate(evidence_batch, start=start_idx):\n",
    "            similarity = jaccard_similarity(claim_set, evidence_set)\n",
    "\n",
    "            # 維護一個長度為5的最高相似度列表\n",
    "            if len(dev_evidences_top5[i]) < 5:\n",
    "                dev_evidences_top5[i].append((similarity, evidence_data[j]['evidence_ID']))\n",
    "                dev_evidences_top5[i].sort(reverse=True, key=lambda x: x[0])\n",
    "            else:\n",
    "                if similarity > dev_evidences_top5[i][-1][0]:\n",
    "                    dev_evidences_top5[i][-1] = (similarity, evidence_data[j]['evidence_ID'])\n",
    "                    dev_evidences_top5[i].sort(reverse=True, key=lambda x: x[0])\n",
    "\n",
    "# 格式化最終結果\n",
    "dev_evidences_pred_jacob_ngram = [{\n",
    "    'dev_claim_ID': dev_claims_data[i]['claim_ID'],\n",
    "    'evidence_IDs': [e[1] for e in top5],\n",
    "    'evidence_sims': [e[0] for e in top5]\n",
    "} for i, top5 in enumerate(dev_evidences_top5)]\n",
    "\n",
    "# 確保結果按相似度排序\n",
    "'''\n",
    "for entry in dev_evidences_jacob_pred:\n",
    "    sorted_indices = np.argsort([-sim for sim in entry['evidence_sims']])\n",
    "    entry['evidence_IDs'] = [entry['evidence_IDs'][idx] for idx in sorted_indices]\n",
    "    entry['evidence_sims'] = [entry['evidence_sims'][idx] for idx in sorted_indices]\n",
    "'''"
   ]
  },
  {
   "cell_type": "code",
   "execution_count": null,
   "id": "0f36f71e",
   "metadata": {},
   "outputs": [],
   "source": [
    "output = pd.DataFrame(dev_evidences_pred_jacob_ngram)\n",
    "output = output.drop_duplicates(subset=['dev_claim_ID'])\n",
    "output.to_csv('dev_evidences_pred_jacob_ngram.csv', index=False)"
   ]
  },
  {
   "cell_type": "code",
   "execution_count": null,
   "id": "d856f806",
   "metadata": {},
   "outputs": [],
   "source": [
    "with open('dev_evidences_pred_jacob.pkl', 'wb') as f:\n",
    "    pickle.dump(dev_evidences_pred_jacob, f)\n",
    "with open('dev_evidences_pred_jacob_ngram.pkl', 'wb') as f:\n",
    "    pickle.dump(dev_evidences_pred_jacob_ngram, f)"
   ]
  },
  {
   "cell_type": "code",
   "execution_count": null,
   "id": "7796b84d",
   "metadata": {},
   "outputs": [],
   "source": [
    "with open('dev_evidences_pred_jacob.pkl', 'rb') as f:\n",
    "    loaded_dev_evidences_pred_jacob = pickle.load(f)\n",
    "with open('dev_evidences_pred_jacob_ngram.pkl', 'rb') as f:\n",
    "    loaded_dev_evidences_pred_jacob_ngram = pickle.load(f)"
   ]
  },
  {
   "cell_type": "code",
   "execution_count": null,
   "id": "888e1f0b",
   "metadata": {},
   "outputs": [],
   "source": [
    "dev_claims_df = pd.DataFrame(dev_claims_data)\n",
    "\n",
    "\n",
    "correct_evidences = dev_claims_df.groupby('claim_ID')['evidences'].apply(list).to_dict()\n",
    "\n",
    "def calculate_accuracy(predictions, correct_evidences):\n",
    "    top_5_accuracy_count = 0\n",
    "    total_claims = len(predictions)\n",
    "    \n",
    "    for pred in predictions:\n",
    "        claim_id = pred['dev_claim_ID']\n",
    "        predicted_evidences = pred['evidence_IDs']\n",
    "        correct_evidences_list = correct_evidences.get(claim_id, [])\n",
    "        \n",
    "        set_predicted_top5 = set(predicted_evidences[:5])\n",
    "        set_correct = set(correct_evidences_list)\n",
    "        if set_predicted_top5 & set_correct:\n",
    "            top_5_accuracy_count += 1\n",
    "\n",
    "    top_5_accuracy = top_5_accuracy_count / total_claims if total_claims > 0 else 0\n",
    "\n",
    "    return  top_5_accuracy\n",
    "\n",
    "# 调用函数计算准确率\n",
    "acc_cos =  calculate_accuracy(dev_evidences_pred_cos_ngram, correct_evidences)\n",
    "acc_cos_ngram =  calculate_accuracy(dev_evidences_pred_cos_ngram, correct_evidences)\n",
    "acc_jacob = calculate_accuracy(dev_evidences_pred_jacob, correct_evidences)\n",
    "acc_jacob_ngram  = calculate_accuracy(dev_evidences_pred_jacob_ngram , correct_evidences)\n",
    "#print(\"Cosine Accuracy:\", acc_cos)  #0.2219959266802444\n",
    "#print(\"Cosine Accuracy(ngram):\", acc_cos_ngram) #0.2219959266802444\n",
    "#print(\"Jacob Accuracy:\", acc_jacob) #0.319755600814664\n",
    "print(\"Jacob Accuracy_15:\", acc_jacob)\n",
    "#print(\"Jacob Accuracy(ngram):\", acc_jacob_ngram) #0.25661914460285135"
   ]
  },
  {
   "cell_type": "code",
   "execution_count": null,
   "id": "9cf76619",
   "metadata": {},
   "outputs": [],
   "source": [
    "print(dev_claim_word_sets)\n",
    "print(pd.DataFrame(dev_evidences_pred_jacob))"
   ]
  },
  {
   "cell_type": "code",
   "execution_count": 18,
   "id": "f0f58c19",
   "metadata": {},
   "outputs": [],
   "source": [
    "import numpy as np\n",
    "# selection: {claim_id: [evidence_id]}\n",
    "# target_file: \"data/dev-claims.json\" or \"data/train-claims.json\" or \"data/claims.json\"\n",
    "# return: recall, precision, F1\n",
    "\n",
    "def eval_selection(selection, target_file):\n",
    "    with open(target_file, 'r') as file:\n",
    "        claims = json.load(file)\n",
    "    selection_total = 0\n",
    "    target_total = 0\n",
    "    correct = 0\n",
    "    for claim_id, evidence_ids in selection.items():\n",
    "        claim = claims[str(claim_id)]\n",
    "        for evidence_id in evidence_ids:\n",
    "            if f\"{evidence_id}\" in claim[\"evidences\"]:\n",
    "                correct += 1\n",
    "        selection_total += len(evidence_ids)\n",
    "        target_total += len(claim[\"evidences\"])\n",
    "    recall = correct / target_total\n",
    "    precision = correct / selection_total\n",
    "    F1 = 2 * precision * recall / (precision + recall) if precision + recall > 0 else np.nan\n",
    "    return recall, precision, F1\n",
    "\n"
   ]
  },
  {
   "cell_type": "code",
   "execution_count": 19,
   "id": "c4a28ebc",
   "metadata": {},
   "outputs": [
    {
     "name": "stdout",
     "output_type": "stream",
     "text": [
      "{'claim-752': ['evidence-421845', 'evidence-554677', 'evidence-684667'], 'claim-375': ['evidence-1140012', 'evidence-1011788', 'evidence-359256'], 'claim-1266': ['evidence-694262', 'evidence-38305', 'evidence-943875'], 'claim-871': ['evidence-336512', 'evidence-472751', 'evidence-617077'], 'claim-2164': ['evidence-962481', 'evidence-1200633', 'evidence-776422'], 'claim-1607': ['evidence-67425', 'evidence-668884', 'evidence-57537'], 'claim-761': ['evidence-868602', 'evidence-351236', 'evidence-196050'], 'claim-1718': ['evidence-1104838', 'evidence-1186951', 'evidence-545544'], 'claim-1273': ['evidence-107843', 'evidence-1154653', 'evidence-789848'], 'claim-1786': ['evidence-124720', 'evidence-231901', 'evidence-875286'], 'claim-2796': ['evidence-403673', 'evidence-720736', 'evidence-178206'], 'claim-2580': ['evidence-208053', 'evidence-425667', 'evidence-15399'], 'claim-1219': ['evidence-1088478', 'evidence-797505', 'evidence-1115033'], 'claim-75': ['evidence-421870', 'evidence-113679', 'evidence-93223'], 'claim-2813': ['evidence-494418', 'evidence-577698', 'evidence-1140942'], 'claim-2335': ['evidence-442589', 'evidence-1149425', 'evidence-511610'], 'claim-161': ['evidence-169769', 'evidence-1187436', 'evidence-72690'], 'claim-2243': ['evidence-991415', 'evidence-338987', 'evidence-403673'], 'claim-1256': ['evidence-111881', 'evidence-77102', 'evidence-1039597'], 'claim-506': ['evidence-1199931', 'evidence-301035', 'evidence-1187436'], 'claim-369': ['evidence-1020001', 'evidence-411817', 'evidence-283135'], 'claim-2184': ['evidence-1058575', 'evidence-233937', 'evidence-469323'], 'claim-1057': ['evidence-75640', 'evidence-754329', 'evidence-289012'], 'claim-104': ['evidence-382866', 'evidence-548766', 'evidence-112449'], 'claim-1975': ['evidence-72690', 'evidence-1187436', 'evidence-438173'], 'claim-139': ['evidence-1072657', 'evidence-757581', 'evidence-72690'], 'claim-2062': ['evidence-884516', 'evidence-876634', 'evidence-403673'], 'claim-1160': ['evidence-849270', 'evidence-208053', 'evidence-668884'], 'claim-2679': ['evidence-826839', 'evidence-393408', 'evidence-198633'], 'claim-2662': ['evidence-572332', 'evidence-946483', 'evidence-889119'], 'claim-1490': ['evidence-252580', 'evidence-213611', 'evidence-551522'], 'claim-2768': ['evidence-410893', 'evidence-39808', 'evidence-367687'], 'claim-2168': ['evidence-203134', 'evidence-747432', 'evidence-367687'], 'claim-785': ['evidence-403673', 'evidence-415989', 'evidence-367687'], 'claim-2426': ['evidence-403673', 'evidence-354405', 'evidence-386149'], 'claim-1292': ['evidence-104688', 'evidence-67889', 'evidence-609295'], 'claim-993': ['evidence-365963', 'evidence-128399', 'evidence-1054821'], 'claim-2593': ['evidence-824809', 'evidence-286794', 'evidence-1187436'], 'claim-1567': ['evidence-747432', 'evidence-950248', 'evidence-658225'], 'claim-1834': ['evidence-864147', 'evidence-173323', 'evidence-572332'], 'claim-856': ['evidence-60092', 'evidence-1076795', 'evidence-308523'], 'claim-540': ['evidence-698828', 'evidence-594449', 'evidence-1048366'], 'claim-757': ['evidence-356444', 'evidence-748871', 'evidence-744771'], 'claim-1407': ['evidence-594449', 'evidence-292040', 'evidence-1151431'], 'claim-3070': ['evidence-996206', 'evidence-1097109', 'evidence-65829'], 'claim-1745': ['evidence-45045', 'evidence-901746', 'evidence-747432'], 'claim-1515': ['evidence-603115', 'evidence-1107475', 'evidence-776109'], 'claim-1519': ['evidence-87345', 'evidence-1153657', 'evidence-1057929'], 'claim-3069': ['evidence-299025', 'evidence-36994', 'evidence-259826'], 'claim-677': ['evidence-425813', 'evidence-15885', 'evidence-2791'], 'claim-765': ['evidence-315589', 'evidence-998774', 'evidence-496267'], 'claim-2275': ['evidence-468059', 'evidence-882874', 'evidence-384379'], 'claim-1113': ['evidence-459315', 'evidence-46734', 'evidence-248737'], 'claim-2611': ['evidence-356854', 'evidence-36206', 'evidence-111005'], 'claim-2060': ['evidence-986235', 'evidence-235887', 'evidence-937482'], 'claim-2326': ['evidence-357997', 'evidence-118071', 'evidence-773103'], 'claim-1087': ['evidence-918733', 'evidence-789440', 'evidence-660476'], 'claim-2867': ['evidence-913019', 'evidence-976029', 'evidence-950991'], 'claim-2300': ['evidence-432475', 'evidence-717659', 'evidence-967332'], 'claim-2250': ['evidence-403673', 'evidence-223619', 'evidence-417371'], 'claim-2429': ['evidence-323302', 'evidence-268112', 'evidence-118140'], 'claim-3051': ['evidence-1088730', 'evidence-1081418', 'evidence-72690'], 'claim-1549': ['evidence-352745', 'evidence-1187436', 'evidence-72690'], 'claim-261': ['evidence-790948', 'evidence-219259', 'evidence-747432'], 'claim-2230': ['evidence-728645', 'evidence-1088478', 'evidence-1055742'], 'claim-2579': ['evidence-662931', 'evidence-1153657', 'evidence-668884'], 'claim-1416': ['evidence-1160292', 'evidence-408089', 'evidence-1065735'], 'claim-2497': ['evidence-1051806', 'evidence-296848', 'evidence-952597'], 'claim-811': ['evidence-604477', 'evidence-917625', 'evidence-752896'], 'claim-1896': ['evidence-1140012', 'evidence-116371', 'evidence-1011788'], 'claim-2819': ['evidence-124062', 'evidence-42757', 'evidence-148509'], 'claim-2643': ['evidence-209410', 'evidence-633010', 'evidence-362814'], 'claim-1775': ['evidence-791159', 'evidence-1018829', 'evidence-515817'], 'claim-316': ['evidence-980959', 'evidence-677910', 'evidence-954785'], 'claim-896': ['evidence-416776', 'evidence-534239', 'evidence-600182'], 'claim-331': ['evidence-367687', 'evidence-747663', 'evidence-436729'], 'claim-2574': ['evidence-580567', 'evidence-386380', 'evidence-1161994'], 'claim-342': ['evidence-1051137', 'evidence-315751', 'evidence-421870'], 'claim-2034': ['evidence-747432', 'evidence-428585', 'evidence-378444'], 'claim-578': ['evidence-1147532', 'evidence-457839', 'evidence-282552'], 'claim-976': ['evidence-45761', 'evidence-57254', 'evidence-936174'], 'claim-1097': ['evidence-308097', 'evidence-1142651', 'evidence-61132'], 'claim-609': ['evidence-1044474', 'evidence-1200633', 'evidence-565283'], 'claim-173': ['evidence-1091994', 'evidence-411018', 'evidence-234766'], 'claim-1222': ['evidence-1040612', 'evidence-173281', 'evidence-7473'], 'claim-2441': ['evidence-461050', 'evidence-616564', 'evidence-626258'], 'claim-756': ['evidence-1146875', 'evidence-572332', 'evidence-1182416'], 'claim-2577': ['evidence-1161994', 'evidence-670186', 'evidence-205895'], 'claim-2890': ['evidence-1144500', 'evidence-1114439', 'evidence-478538'], 'claim-2478': ['evidence-799025', 'evidence-822464', 'evidence-685011'], 'claim-2399': ['evidence-378292', 'evidence-807379', 'evidence-1122962'], 'claim-3091': ['evidence-520355', 'evidence-462309', 'evidence-719923'], 'claim-141': ['evidence-889004', 'evidence-825791', 'evidence-117612'], 'claim-1933': ['evidence-423215', 'evidence-804264', 'evidence-574489'], 'claim-1689': ['evidence-208863', 'evidence-1106565', 'evidence-1023925'], 'claim-443': ['evidence-946483', 'evidence-44588', 'evidence-572332'], 'claim-2037': ['evidence-363747', 'evidence-45069', 'evidence-489429'], 'claim-1734': ['evidence-755597', 'evidence-901245', 'evidence-820593'], 'claim-2093': ['evidence-637628', 'evidence-808385', 'evidence-1107977'], 'claim-1400': ['evidence-367687', 'evidence-893127', 'evidence-905992'], 'claim-1638': ['evidence-461050', 'evidence-403673', 'evidence-814323'], 'claim-3075': ['evidence-894712', 'evidence-1040612', 'evidence-391045'], 'claim-38': ['evidence-869213', 'evidence-1055742', 'evidence-597766'], 'claim-1643': ['evidence-702249', 'evidence-682398', 'evidence-390975'], 'claim-1259': ['evidence-393334', 'evidence-926240', 'evidence-228018'], 'claim-1605': ['evidence-329253', 'evidence-93169', 'evidence-902893'], 'claim-1711': ['evidence-59188', 'evidence-695091', 'evidence-533511'], 'claim-2236': ['evidence-422404', 'evidence-1081778', 'evidence-318660'], 'claim-1040': ['evidence-1107482', 'evidence-68691', 'evidence-505494'], 'claim-392': ['evidence-403673', 'evidence-467952', 'evidence-65912'], 'claim-368': ['evidence-378444', 'evidence-747432', 'evidence-1078581'], 'claim-559': ['evidence-1020506', 'evidence-379897', 'evidence-1187436'], 'claim-2583': ['evidence-1184683', 'evidence-376130', 'evidence-954785'], 'claim-2609': ['evidence-946483', 'evidence-572332', 'evidence-82903'], 'claim-492': ['evidence-626239', 'evidence-403673', 'evidence-546948'], 'claim-1420': ['evidence-1161717', 'evidence-913623', 'evidence-613972'], 'claim-1089': ['evidence-670186', 'evidence-287127', 'evidence-386915'], 'claim-1467': ['evidence-425667', 'evidence-1126413', 'evidence-355487'], 'claim-444': ['evidence-889119', 'evidence-612262', 'evidence-617501'], 'claim-803': ['evidence-968233', 'evidence-1150148', 'evidence-465117'], 'claim-1668': ['evidence-1181544', 'evidence-869213', 'evidence-1034941'], 'claim-742': ['evidence-329503', 'evidence-1023546', 'evidence-631053'], 'claim-846': ['evidence-248795', 'evidence-576055', 'evidence-241501'], 'claim-2119': ['evidence-494418', 'evidence-127999', 'evidence-1176011'], 'claim-1167': ['evidence-1150262', 'evidence-280914', 'evidence-512318'], 'claim-623': ['evidence-446509', 'evidence-1192617', 'evidence-451718'], 'claim-2882': ['evidence-363958', 'evidence-760691', 'evidence-724005'], 'claim-1698': ['evidence-793124', 'evidence-403673', 'evidence-1094467'], 'claim-181': ['evidence-617501', 'evidence-641208', 'evidence-84444'], 'claim-281': ['evidence-826177', 'evidence-403673', 'evidence-712356'], 'claim-2809': ['evidence-762946', 'evidence-9480', 'evidence-1010647'], 'claim-1928': ['evidence-529248', 'evidence-65752', 'evidence-1055742'], 'claim-2787': ['evidence-494418', 'evidence-958587', 'evidence-918450'], 'claim-478': ['evidence-239860', 'evidence-461912', 'evidence-227800'], 'claim-988': ['evidence-200360', 'evidence-725565', 'evidence-820593'], 'claim-266': ['evidence-794055', 'evidence-747432', 'evidence-210626'], 'claim-2282': ['evidence-513391', 'evidence-358833', 'evidence-983952'], 'claim-2895': ['evidence-1112245', 'evidence-941196', 'evidence-371380'], 'claim-349': ['evidence-631001', 'evidence-244058', 'evidence-160026'], 'claim-2101': ['evidence-666837', 'evidence-208863', 'evidence-1106565'], 'claim-897': ['evidence-301357', 'evidence-1080645', 'evidence-780081'], 'claim-3063': ['evidence-403673', 'evidence-573859', 'evidence-57888'], 'claim-386': ['evidence-693024', 'evidence-763336', 'evidence-1088059'], 'claim-2691': ['evidence-1074121', 'evidence-200739', 'evidence-119592'], 'claim-530': ['evidence-1113231', 'evidence-614037', 'evidence-1114895'], 'claim-2979': ['evidence-274044', 'evidence-986681', 'evidence-481206'], 'claim-665': ['evidence-578925', 'evidence-1105120', 'evidence-143437'], 'claim-199': ['evidence-262618', 'evidence-204609', 'evidence-925288'], 'claim-490': ['evidence-747432', 'evidence-970429', 'evidence-1060242'], 'claim-2400': ['evidence-885542', 'evidence-808385', 'evidence-238570'], 'claim-204': ['evidence-617501', 'evidence-584709', 'evidence-488727'], 'claim-1426': ['evidence-580567', 'evidence-386380', 'evidence-744921'], 'claim-698': ['evidence-366949', 'evidence-624586', 'evidence-1087701'], 'claim-1021': ['evidence-670186', 'evidence-205895', 'evidence-1154331']}\n"
     ]
    }
   ],
   "source": [
    "selection_c = {}\n",
    "\n",
    "for item in dev_evidences_pred_cos:\n",
    "    claim_id = item['dev_claim_ID']\n",
    "    evidence_ids = item['evidence_IDs']\n",
    "\n",
    "    selection_c[claim_id] = evidence_ids\n",
    "\n",
    "print(selection_c)"
   ]
  },
  {
   "cell_type": "code",
   "execution_count": 20,
   "id": "bbce2225",
   "metadata": {},
   "outputs": [
    {
     "name": "stdout",
     "output_type": "stream",
     "text": [
      "{'claim-752': ['evidence-572512', 'evidence-511300', 'evidence-185267'], 'claim-375': ['evidence-864147', 'evidence-631053', 'evidence-778407'], 'claim-1266': ['evidence-694262', 'evidence-402339', 'evidence-1207903'], 'claim-871': ['evidence-366901', 'evidence-617077', 'evidence-1017572'], 'claim-2164': ['evidence-52981', 'evidence-1134268', 'evidence-399454'], 'claim-1607': ['evidence-668884', 'evidence-397504', 'evidence-411975'], 'claim-761': ['evidence-664808', 'evidence-620340', 'evidence-919'], 'claim-1718': ['evidence-545018', 'evidence-1104838', 'evidence-45045'], 'claim-1273': ['evidence-107843', 'evidence-789848', 'evidence-1154653'], 'claim-1786': ['evidence-714132', 'evidence-875286', 'evidence-392862'], 'claim-2796': ['evidence-632574', 'evidence-1165029', 'evidence-620691'], 'claim-2580': ['evidence-91099', 'evidence-15399', 'evidence-425667'], 'claim-1219': ['evidence-118577', 'evidence-1088478', 'evidence-797505'], 'claim-75': ['evidence-421870', 'evidence-1186875', 'evidence-566907'], 'claim-2813': ['evidence-127999', 'evidence-577698', 'evidence-848463'], 'claim-2335': ['evidence-512357', 'evidence-124353', 'evidence-242764'], 'claim-161': ['evidence-421870', 'evidence-1186875', 'evidence-242363'], 'claim-2243': ['evidence-247680', 'evidence-376130', 'evidence-509154'], 'claim-1256': ['evidence-111881', 'evidence-1107462', 'evidence-1150857'], 'claim-506': ['evidence-1199931', 'evidence-558741', 'evidence-222883'], 'claim-369': ['evidence-411817', 'evidence-1020001', 'evidence-571920'], 'claim-2184': ['evidence-469323', 'evidence-496943', 'evidence-224942'], 'claim-1057': ['evidence-75640', 'evidence-754329', 'evidence-289012'], 'claim-104': ['evidence-112449', 'evidence-269431', 'evidence-498380'], 'claim-1975': ['evidence-354829', 'evidence-949639', 'evidence-600570'], 'claim-139': ['evidence-205830', 'evidence-19964', 'evidence-820942'], 'claim-2062': ['evidence-1003462', 'evidence-403673', 'evidence-884516'], 'claim-1160': ['evidence-1064454', 'evidence-965468', 'evidence-32852'], 'claim-2679': ['evidence-731175', 'evidence-278516', 'evidence-556544'], 'claim-2662': ['evidence-203620', 'evidence-889119', 'evidence-157943'], 'claim-1490': ['evidence-252580', 'evidence-551522', 'evidence-1133467'], 'claim-2768': ['evidence-39808', 'evidence-388891', 'evidence-410893'], 'claim-2168': ['evidence-203134', 'evidence-41418', 'evidence-367687'], 'claim-785': ['evidence-149478', 'evidence-519752', 'evidence-11661'], 'claim-2426': ['evidence-403673', 'evidence-35625', 'evidence-540292'], 'claim-1292': ['evidence-981832', 'evidence-609295', 'evidence-67889'], 'claim-993': ['evidence-365963', 'evidence-1108581', 'evidence-958600'], 'claim-2593': ['evidence-810420', 'evidence-824809', 'evidence-1124123'], 'claim-1567': ['evidence-658225', 'evidence-950248', 'evidence-383093'], 'claim-1834': ['evidence-864147', 'evidence-173323', 'evidence-163581'], 'claim-856': ['evidence-47088', 'evidence-177654', 'evidence-268112'], 'claim-540': ['evidence-698828', 'evidence-8063', 'evidence-594449'], 'claim-757': ['evidence-744771', 'evidence-460305', 'evidence-278516'], 'claim-1407': ['evidence-208435', 'evidence-83157', 'evidence-465099'], 'claim-3070': ['evidence-65451', 'evidence-660364', 'evidence-153129'], 'claim-1745': ['evidence-45045', 'evidence-936709', 'evidence-788147'], 'claim-1515': ['evidence-196453', 'evidence-64048', 'evidence-690679'], 'claim-1519': ['evidence-87345', 'evidence-1153657', 'evidence-110835'], 'claim-3069': ['evidence-269919', 'evidence-282556', 'evidence-299025'], 'claim-677': ['evidence-215395', 'evidence-630756', 'evidence-345752'], 'claim-765': ['evidence-315589', 'evidence-487598', 'evidence-496267'], 'claim-2275': ['evidence-556407', 'evidence-384379', 'evidence-882874'], 'claim-1113': ['evidence-459315', 'evidence-818829', 'evidence-46734'], 'claim-2611': ['evidence-36206', 'evidence-356854', 'evidence-318220'], 'claim-2060': ['evidence-403673', 'evidence-35625', 'evidence-540292'], 'claim-2326': ['evidence-357997', 'evidence-923298', 'evidence-776091'], 'claim-1087': ['evidence-196453', 'evidence-1043571', 'evidence-842114'], 'claim-2867': ['evidence-1208201', 'evidence-392', 'evidence-268629'], 'claim-2300': ['evidence-372899', 'evidence-181510', 'evidence-237614'], 'claim-2250': ['evidence-918450', 'evidence-223619', 'evidence-956940'], 'claim-2429': ['evidence-483558', 'evidence-323302', 'evidence-510852'], 'claim-3051': ['evidence-1088730', 'evidence-490353', 'evidence-889101'], 'claim-1549': ['evidence-72690', 'evidence-1187436', 'evidence-761188'], 'claim-261': ['evidence-399301', 'evidence-712740', 'evidence-1050126'], 'claim-2230': ['evidence-1088478', 'evidence-728645', 'evidence-382561'], 'claim-2579': ['evidence-662931', 'evidence-1153657', 'evidence-509612'], 'claim-1416': ['evidence-1160292', 'evidence-408089', 'evidence-817497'], 'claim-2497': ['evidence-330088', 'evidence-95105', 'evidence-238934'], 'claim-811': ['evidence-750645', 'evidence-352655', 'evidence-123812'], 'claim-1896': ['evidence-962087', 'evidence-978074', 'evidence-1121828'], 'claim-2819': ['evidence-124062', 'evidence-1030718', 'evidence-496792'], 'claim-2643': ['evidence-1060242', 'evidence-378444', 'evidence-1174708'], 'claim-1775': ['evidence-175982', 'evidence-515817', 'evidence-662931'], 'claim-316': ['evidence-733847', 'evidence-677910', 'evidence-98712'], 'claim-896': ['evidence-416776', 'evidence-534239', 'evidence-246622'], 'claim-331': ['evidence-747663', 'evidence-196453', 'evidence-244058'], 'claim-2574': ['evidence-386380', 'evidence-580567', 'evidence-1161994'], 'claim-342': ['evidence-887564', 'evidence-315751', 'evidence-1051137'], 'claim-2034': ['evidence-498301', 'evidence-268112', 'evidence-526435'], 'claim-578': ['evidence-1147532', 'evidence-282552', 'evidence-457839'], 'claim-976': ['evidence-936956', 'evidence-352749', 'evidence-1048353'], 'claim-1097': ['evidence-112901', 'evidence-123496', 'evidence-374352'], 'claim-609': ['evidence-1019600', 'evidence-1134268', 'evidence-834202'], 'claim-173': ['evidence-234766', 'evidence-447813', 'evidence-1205511'], 'claim-1222': ['evidence-173281', 'evidence-1040612', 'evidence-1056186'], 'claim-2441': ['evidence-461050', 'evidence-233437', 'evidence-616039'], 'claim-756': ['evidence-229230', 'evidence-1144173', 'evidence-350004'], 'claim-2577': ['evidence-850174', 'evidence-369389', 'evidence-968712'], 'claim-2890': ['evidence-255391', 'evidence-1144500', 'evidence-602026'], 'claim-2478': ['evidence-167739', 'evidence-524949', 'evidence-834389'], 'claim-2399': ['evidence-1205883', 'evidence-378292', 'evidence-907201'], 'claim-3091': ['evidence-520355', 'evidence-913624', 'evidence-48630'], 'claim-141': ['evidence-1025353', 'evidence-828282', 'evidence-561714'], 'claim-1933': ['evidence-101963', 'evidence-424945', 'evidence-403673'], 'claim-1689': ['evidence-208863', 'evidence-1106565', 'evidence-1182056'], 'claim-443': ['evidence-44588', 'evidence-247672', 'evidence-973577'], 'claim-2037': ['evidence-363747', 'evidence-772746', 'evidence-1061888'], 'claim-1734': ['evidence-755597', 'evidence-901245', 'evidence-1058299'], 'claim-2093': ['evidence-637628', 'evidence-572879', 'evidence-71936'], 'claim-1400': ['evidence-432899', 'evidence-446803', 'evidence-803945'], 'claim-1638': ['evidence-461050', 'evidence-1118009', 'evidence-894521'], 'claim-3075': ['evidence-1040612', 'evidence-894712', 'evidence-60451'], 'claim-38': ['evidence-869213', 'evidence-352824', 'evidence-915752'], 'claim-1643': ['evidence-544253', 'evidence-704416', 'evidence-424945'], 'claim-1259': ['evidence-393334', 'evidence-926240', 'evidence-900466'], 'claim-1605': ['evidence-93169', 'evidence-329253', 'evidence-247646'], 'claim-1711': ['evidence-59188', 'evidence-533511', 'evidence-779966'], 'claim-2236': ['evidence-493616', 'evidence-598985', 'evidence-716825'], 'claim-1040': ['evidence-458476', 'evidence-190063', 'evidence-1028174'], 'claim-392': ['evidence-403673', 'evidence-602477', 'evidence-874622'], 'claim-368': ['evidence-1078581', 'evidence-378444', 'evidence-828546'], 'claim-559': ['evidence-1047048', 'evidence-761188', 'evidence-219804'], 'claim-2583': ['evidence-376130', 'evidence-484732', 'evidence-247680'], 'claim-2609': ['evidence-252580', 'evidence-707516', 'evidence-549330'], 'claim-492': ['evidence-626239', 'evidence-879500', 'evidence-1187712'], 'claim-1420': ['evidence-613972', 'evidence-244109', 'evidence-889119'], 'claim-1089': ['evidence-287127', 'evidence-482300', 'evidence-810957'], 'claim-1467': ['evidence-425667', 'evidence-355487', 'evidence-1126413'], 'claim-444': ['evidence-889119', 'evidence-1196424', 'evidence-409517'], 'claim-803': ['evidence-968233', 'evidence-1150148', 'evidence-465117'], 'claim-1668': ['evidence-1034941', 'evidence-869213', 'evidence-559069'], 'claim-742': ['evidence-631053', 'evidence-1207394', 'evidence-171920'], 'claim-846': ['evidence-248795', 'evidence-421276', 'evidence-409873'], 'claim-2119': ['evidence-228393', 'evidence-127999', 'evidence-684895'], 'claim-1167': ['evidence-1150262', 'evidence-709729', 'evidence-604307'], 'claim-623': ['evidence-446509', 'evidence-522173', 'evidence-538528'], 'claim-2882': ['evidence-363958', 'evidence-520753', 'evidence-211727'], 'claim-1698': ['evidence-264263', 'evidence-185243', 'evidence-292357'], 'claim-181': ['evidence-556544', 'evidence-1196424', 'evidence-98910'], 'claim-281': ['evidence-562898', 'evidence-712356', 'evidence-1975'], 'claim-2809': ['evidence-762946', 'evidence-478812', 'evidence-1121879'], 'claim-1928': ['evidence-529248', 'evidence-541916', 'evidence-571920'], 'claim-2787': ['evidence-494418', 'evidence-958587', 'evidence-918450'], 'claim-478': ['evidence-1002458', 'evidence-307570', 'evidence-441956'], 'claim-988': ['evidence-398238', 'evidence-725565', 'evidence-200360'], 'claim-266': ['evidence-1060242', 'evidence-64378', 'evidence-166337'], 'claim-2282': ['evidence-749693', 'evidence-513391', 'evidence-725428'], 'claim-2895': ['evidence-812408', 'evidence-427121', 'evidence-538622'], 'claim-349': ['evidence-120612', 'evidence-900676', 'evidence-1035565'], 'claim-2101': ['evidence-486549', 'evidence-139358', 'evidence-208863'], 'claim-897': ['evidence-969926', 'evidence-100859', 'evidence-255285'], 'claim-3063': ['evidence-403673', 'evidence-35625', 'evidence-540292'], 'claim-386': ['evidence-693024', 'evidence-763336', 'evidence-1022928'], 'claim-2691': ['evidence-1074121', 'evidence-329691', 'evidence-616546'], 'claim-530': ['evidence-567044', 'evidence-572512', 'evidence-1177976'], 'claim-2979': ['evidence-481206', 'evidence-274044', 'evidence-482493'], 'claim-665': ['evidence-578925', 'evidence-116567', 'evidence-143437'], 'claim-199': ['evidence-1006008', 'evidence-255653', 'evidence-300724'], 'claim-490': ['evidence-970429', 'evidence-587392', 'evidence-307896'], 'claim-2400': ['evidence-679275', 'evidence-782313', 'evidence-1148030'], 'claim-204': ['evidence-488727', 'evidence-584709', 'evidence-617501'], 'claim-1426': ['evidence-744921', 'evidence-386380', 'evidence-580567'], 'claim-698': ['evidence-624586', 'evidence-366949', 'evidence-281542'], 'claim-1021': ['evidence-1154331', 'evidence-312865', 'evidence-465258']}\n"
     ]
    }
   ],
   "source": [
    "selection_j = {}\n",
    "\n",
    "for item in dev_evidences_pred_jacob:\n",
    "    claim_id = item['dev_claim_ID']\n",
    "    evidence_ids = item['evidence_IDs']\n",
    "\n",
    "    selection_j[claim_id] = evidence_ids\n",
    "\n",
    "print(selection_j)"
   ]
  },
  {
   "cell_type": "code",
   "execution_count": 22,
   "id": "03e2ca89",
   "metadata": {},
   "outputs": [
    {
     "name": "stdout",
     "output_type": "stream",
     "text": [
      "Cosine similarity (Top 3 evidence)\n",
      "Recall: 0.0855397148676171\n",
      "Precision: 0.09090909090909091\n",
      "F1 Score: 0.08814270724029381\n",
      "\n",
      "\n",
      "Jaccard similarity (Top 3 evidence)\n",
      "Recall: 0.08757637474541752\n",
      "Precision: 0.09307359307359307\n",
      "F1 Score: 0.09024134312696747\n"
     ]
    }
   ],
   "source": [
    "recall_c, precision_c, F1_c = eval_selection(selection_c, \"dev-claims.json\")\n",
    "print(\"Cosine similarity (Top 3 evidence)\")\n",
    "print(f\"Recall: {recall_c}\")\n",
    "print(f\"Precision: {precision_c}\")\n",
    "print(f\"F1 Score: {F1_c}\")\n",
    "\n",
    "print(\"\\n\")\n",
    "recall, precision, F1 = eval_selection(selection_j, \"dev-claims.json\")\n",
    "print(\"Jaccard similarity (Top 3 evidence)\")\n",
    "print(f\"Recall: {recall}\")\n",
    "print(f\"Precision: {precision}\")\n",
    "print(f\"F1 Score: {F1}\")"
   ]
  },
  {
   "cell_type": "markdown",
   "id": "5992a3ef",
   "metadata": {},
   "source": [
    "## BM25"
   ]
  },
  {
   "cell_type": "code",
   "execution_count": 5,
   "id": "2efb0f88",
   "metadata": {},
   "outputs": [
    {
     "ename": "NameError",
     "evalue": "name 'train_claims_data' is not defined",
     "output_type": "error",
     "traceback": [
      "\u001b[1;31m---------------------------------------------------------------------------\u001b[0m",
      "\u001b[1;31mNameError\u001b[0m                                 Traceback (most recent call last)",
      "Cell \u001b[1;32mIn[5], line 23\u001b[0m\n\u001b[0;32m     19\u001b[0m         dev_claims_data\u001b[38;5;241m.\u001b[39mappend(update_info)\n\u001b[0;32m     20\u001b[0m dev_label_counts \u001b[38;5;241m=\u001b[39m pd\u001b[38;5;241m.\u001b[39mDataFrame(dev_claims_data)[\u001b[38;5;124m'\u001b[39m\u001b[38;5;124mclaim_label\u001b[39m\u001b[38;5;124m'\u001b[39m]\u001b[38;5;241m.\u001b[39mvalue_counts()\n\u001b[1;32m---> 23\u001b[0m claims_texts \u001b[38;5;241m=\u001b[39m [preprocess_text(claim[\u001b[38;5;124m'\u001b[39m\u001b[38;5;124mclaim_text\u001b[39m\u001b[38;5;124m'\u001b[39m]) \u001b[38;5;28;01mfor\u001b[39;00m claim \u001b[38;5;129;01min\u001b[39;00m \u001b[43mtrain_claims_data\u001b[49m]\n\u001b[0;32m     24\u001b[0m evidence_texts \u001b[38;5;241m=\u001b[39m [preprocess_text(evidence[\u001b[38;5;124m'\u001b[39m\u001b[38;5;124mevidence_text\u001b[39m\u001b[38;5;124m'\u001b[39m]) \u001b[38;5;28;01mfor\u001b[39;00m evidence \u001b[38;5;129;01min\u001b[39;00m evidence_data]\n\u001b[0;32m     25\u001b[0m \u001b[38;5;66;03m#all_texts = claims_texts + evidence_texts\u001b[39;00m\n",
      "\u001b[1;31mNameError\u001b[0m: name 'train_claims_data' is not defined"
     ]
    }
   ],
   "source": [
    "evidence_data = []\n",
    "\n",
    "for col in evidence_df.columns:\n",
    "    evidence_text = evidence_df[col][0]\n",
    "    evidence_id = col\n",
    "    evidence_data.append({\n",
    "        \"evidence_ID\": evidence_id,\n",
    "        \"evidence_text\": evidence_text\n",
    "    })\n",
    "\n",
    "dev_claims_data = []\n",
    "for claim_id, claim_info in dev_claims_df.items():\n",
    "        update_info = {\n",
    "            \"claim_ID\": claim_id,\n",
    "            \"claim_text\": claim_info[0]['claim_text'],\n",
    "            \"claim_label\": claim_info[0]['claim_label'],\n",
    "            \"evidences\": claim_info[0]['evidences']\n",
    "        }\n",
    "        dev_claims_data.append(update_info)\n",
    "dev_label_counts = pd.DataFrame(dev_claims_data)['claim_label'].value_counts()\n",
    "\n",
    "\n",
    "claims_texts = [preprocess_text(claim['claim_text']) for claim in train_claims_data]\n",
    "evidence_texts = [preprocess_text(evidence['evidence_text']) for evidence in evidence_data]\n",
    "#all_texts = claims_texts + evidence_texts"
   ]
  },
  {
   "cell_type": "code",
   "execution_count": null,
   "id": "82e0dd2c",
   "metadata": {},
   "outputs": [
    {
     "ename": "NameError",
     "evalue": "name 'evidence_texts' is not defined",
     "output_type": "error",
     "traceback": [
      "\u001b[1;31m---------------------------------------------------------------------------\u001b[0m",
      "\u001b[1;31mNameError\u001b[0m                                 Traceback (most recent call last)",
      "Cell \u001b[1;32mIn[4], line 5\u001b[0m\n\u001b[0;32m      2\u001b[0m \u001b[38;5;28;01mfrom\u001b[39;00m \u001b[38;5;21;01msklearn\u001b[39;00m\u001b[38;5;21;01m.\u001b[39;00m\u001b[38;5;21;01mmetrics\u001b[39;00m \u001b[38;5;28;01mimport\u001b[39;00m f1_score\n\u001b[0;32m      4\u001b[0m \u001b[38;5;66;03m# 初始化BM25模型\u001b[39;00m\n\u001b[1;32m----> 5\u001b[0m bm25 \u001b[38;5;241m=\u001b[39m BM25Okapi(\u001b[43mevidence_texts\u001b[49m, k1\u001b[38;5;241m=\u001b[39m\u001b[38;5;241m0.6\u001b[39m, b\u001b[38;5;241m=\u001b[39m\u001b[38;5;241m0.6\u001b[39m)\n\u001b[0;32m      7\u001b[0m \u001b[38;5;28;01mdef\u001b[39;00m \u001b[38;5;21mget_top_n_evidence\u001b[39m(claim_text, top_n\u001b[38;5;241m=\u001b[39m\u001b[38;5;241m3\u001b[39m):\n\u001b[0;32m      8\u001b[0m     scores \u001b[38;5;241m=\u001b[39m bm25\u001b[38;5;241m.\u001b[39mget_scores(claims_texts)\n",
      "\u001b[1;31mNameError\u001b[0m: name 'evidence_texts' is not defined"
     ]
    }
   ],
   "source": [
    "from rank_bm25 import BM25Okapi\n",
    "from sklearn.metrics import f1_score\n",
    "\n",
    "# 初始化BM25模型\n",
    "bm25 = BM25Okapi(evidence_texts, k1=0.6, b=0.6)\n",
    "\n",
    "def get_top_n_evidence(claim_text, top_n=3):\n",
    "    scores = bm25.get_scores(claim_text)\n",
    "    top_indexes = sorted(range(len(scores)), key=lambda i: scores[i], reverse=True)[:top_n]\n",
    "    return top_indexes\n"
   ]
  },
  {
   "cell_type": "code",
   "execution_count": 31,
   "id": "3ff772db",
   "metadata": {},
   "outputs": [],
   "source": [
    "true_labels = []\n",
    "pred_labels = []\n",
    "\n",
    "for claim in dev_claims_data:\n",
    "    claim_text = claim['claim_text']\n",
    "    top_evidences = get_top_n_evidence(claim_text, top_n=3)\n",
    "    \n",
    "    # true\n",
    "    true_labels.append(claim['evidences'])\n",
    "    \n",
    "    # pred\n",
    "    pred_labels.append([evidence_data[idx]['evidence_ID'] for idx in top_evidences])\n",
    "\n",
    "# F1 score\n",
    "flatten_true_labels = [item for sublist in true_labels for item in sublist]\n",
    "flatten_pred_labels = [item for sublist in pred_labels for item in sublist]\n",
    "\n",
    "\n",
    "f1 = f1_score(flatten_true_labels, flatten_pred_labels, average='micro')\n",
    "print(f'F1 Score: {f1:.4f}')"
   ]
  }
 ],
 "metadata": {
  "kernelspec": {
   "display_name": "Python 3 (ipykernel)",
   "language": "python",
   "name": "python3"
  },
  "language_info": {
   "codemirror_mode": {
    "name": "ipython",
    "version": 3
   },
   "file_extension": ".py",
   "mimetype": "text/x-python",
   "name": "python",
   "nbconvert_exporter": "python",
   "pygments_lexer": "ipython3",
   "version": "3.11.7"
  }
 },
 "nbformat": 4,
 "nbformat_minor": 5
}
